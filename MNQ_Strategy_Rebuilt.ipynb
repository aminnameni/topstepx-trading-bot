{
 "cells": [
  {
   "cell_type": "code",
   "execution_count": null,
   "id": "3b7b81c3",
   "metadata": {},
   "outputs": [],
   "source": [
    "!pip install mplfinance\n"
   ]
  },
  {
   "cell_type": "code",
   "execution_count": null,
   "id": "79bd94bb",
   "metadata": {},
   "outputs": [],
   "source": [
    "import requests\n",
    "import pandas as pd\n",
    "import mplfinance as mpf\n",
    "\n",
    "# 🔐 Access Token (Demo - Replace with your actual one if needed)\n",
    "access_token = \"YOUR_ACCESS_TOKEN_HERE\"\n"
   ]
  },
  {
   "cell_type": "code",
   "execution_count": null,
   "id": "f076dccc",
   "metadata": {},
   "outputs": [],
   "source": [
    "url = \"https://api.topstepx.com/api/History/retrieveBars\"\n",
    "headers = {\n",
    "    \"Authorization\": f\"Bearer {access_token}\",\n",
    "    \"Content-Type\": \"application/json\",\n",
    "    \"accept\": \"application/json\"\n",
    "}\n",
    "payload = {\n",
    "    \"contractId\": \"CON.F.US.MNQ.U25\",\n",
    "    \"live\": False,\n",
    "    \"startTime\": \"2025-06-24T00:00:00Z\",\n",
    "    \"endTime\": \"2025-06-25T00:00:00Z\",\n",
    "    \"unit\": 2,\n",
    "    \"unitNumber\": 5,\n",
    "    \"limit\": 100,\n",
    "    \"includePartialBar\": False\n",
    "}\n",
    "response = requests.post(url, json=payload, headers=headers)\n",
    "bars = response.json()[\"bars\"]\n",
    "df = pd.DataFrame(bars)\n",
    "df.rename(columns={\"t\": \"Date\", \"o\": \"Open\", \"h\": \"High\", \"l\": \"Low\", \"c\": \"Close\", \"v\": \"Volume\"}, inplace=True)\n",
    "df[\"Date\"] = pd.to_datetime(df[\"Date\"])\n",
    "df.set_index(\"Date\", inplace=True)\n",
    "df.tail()\n"
   ]
  },
  {
   "cell_type": "code",
   "execution_count": null,
   "id": "d368d290",
   "metadata": {},
   "outputs": [],
   "source": [
    "ha_df = df.copy()\n",
    "ha_df['HA_Close'] = (ha_df['Open'] + ha_df['High'] + ha_df['Low'] + ha_df['Close']) / 4\n",
    "ha_open = [(ha_df['Open'][0] + ha_df['Close'][0]) / 2]\n",
    "for i in range(1, len(ha_df)):\n",
    "    ha_open.append((ha_open[i-1] + ha_df['HA_Close'][i-1]) / 2)\n",
    "ha_df['HA_Open'] = ha_open\n",
    "ha_df['HA_High'] = ha_df[['High', 'HA_Open', 'HA_Close']].max(axis=1)\n",
    "ha_df['HA_Low'] = ha_df[['Low', 'HA_Open', 'HA_Close']].min(axis=1)\n"
   ]
  },
  {
   "cell_type": "code",
   "execution_count": null,
   "id": "e8aba6aa",
   "metadata": {},
   "outputs": [],
   "source": [
    "# === MA Calculation\n",
    "ema1 = ha_df['Close'].ewm(span=9, adjust=False).mean()\n",
    "ema2 = ha_df['Close'].ewm(span=29, adjust=False).mean()\n",
    "ema_trend = ha_df['Close'].ewm(span=100, adjust=False).mean()\n",
    "\n",
    "# === Conditions\n",
    "ha_df['long_signal'] = (ema1 > ema2) & (ha_df['HA_Close'] > ha_df['HA_Open']) & (ha_df['HA_High'] > ema_trend)\n",
    "ha_df['short_signal'] = (ema1 < ema2) & (ha_df['HA_Close'] < ha_df['HA_Open']) & (ha_df['HA_Low'] < ema_trend)\n",
    "\n",
    "# === Last Signals\n",
    "last_long = ha_df[ha_df['long_signal']].iloc[-1:] if ha_df['long_signal'].any() else None\n",
    "last_short = ha_df[ha_df['short_signal']].iloc[-1:] if ha_df['short_signal'].any() else None\n",
    "\n",
    "if last_long is not None:\n",
    "    print(\"✅ آخرین سیگنال خرید:\")\n",
    "    print(last_long[['Open', 'High', 'Low', 'Close']])\n",
    "if last_short is not None:\n",
    "    print(\"✅ آخرین سیگنال فروش:\")\n",
    "    print(last_short[['Open', 'High', 'Low', 'Close']])\n",
    "if last_long is None and last_short is None:\n",
    "    print(\"❌ سیگنال فعالی یافت نشد.\")\n"
   ]
  },
  {
   "cell_type": "code",
   "execution_count": null,
   "id": "d8ddb49b",
   "metadata": {},
   "outputs": [],
   "source": [
    "mpf.plot(df, type='candle', style='charles', title='MNQ - 5m Chart', ylabel='Price', volume=True)\n"
   ]
  }
 ],
 "metadata": {},
 "nbformat": 4,
 "nbformat_minor": 5
}
