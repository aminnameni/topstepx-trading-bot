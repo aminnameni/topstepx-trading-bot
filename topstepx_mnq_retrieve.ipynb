
{
 "cells": [
  {
   "cell_type": "code",
   "execution_count": null,
   "metadata": {},
   "outputs": [],
   "source": [
    "import requests\n",
    "import pandas as pd\n",
    "import matplotlib.pyplot as plt\n\n",
    "# 🔑 API Token\n",
    "API_TOKEN = \"توکن_خودت_را_اینجا_بگذار\"\n",
    "URL = \"https://api.topstepx.com/api/History/retrieveBars\"\n\n",
    "# 🎯 Request Parameters\n",
    "payload = {\n",
    "    \"contractId\": \"CON.F.US.MNQ.U25\",\n",
    "    \"live\": True,\n",
    "    \"startTime\": \"2025-06-20T00:00:00Z\",\n",
    "    \"endTime\": \"2025-06-25T00:00:00Z\",\n",
    "    \"unit\": 2,\n",
    "    \"unitNumber\": 5,\n",
    "    \"limit\": 100,\n",
    "    \"includePartialBar\": False\n",
    "}\n\n",
    "headers = {\n",
    "    \"Authorization\": f\"Bearer {API_TOKEN}\",\n",
    "    \"Content-Type\": \"application/json\",\n",
    "    \"accept\": \"application/json\"\n",
    "}\n\n",
    "response = requests.post(URL, json=payload, headers=headers)\n\n",
    "if response.status_code == 200:\n",
    "    bars = response.json()\n",
    "    df = pd.DataFrame(bars)\n",
    "    df['timestamp'] = pd.to_datetime(df['startTime'])\n",
    "    print(df[['timestamp', 'open', 'high', 'low', 'close']].tail())\n\n",
    "    # 📈 Plot chart\n",
    "    plt.figure(figsize=(12, 5))\n",
    "    plt.plot(df['timestamp'], df['close'], label='Close')\n",
    "    plt.title(\"MNQU25 - 5 Minute Chart\")\n",
    "    plt.xlabel(\"Time\")\n",
    "    plt.ylabel(\"Price\")\n",
    "    plt.grid(True)\n",
    "    plt.legend()\n",
    "    plt.tight_layout()\n",
    "    plt.show()\n",
    "else:\n",
    "    print(\"❌ Error:\", response.status_code)\n",
    "    print(response.text)"
   ]
  }
 ],
 "metadata": {
  "kernelspec": {
   "display_name": "Python 3",
   "language": "python",
   "name": "python3"
  },
  "language_info": {
   "name": "python",
   "version": "3.x"
  }
 },
 "nbformat": 4,
 "nbformat_minor": 2
}
