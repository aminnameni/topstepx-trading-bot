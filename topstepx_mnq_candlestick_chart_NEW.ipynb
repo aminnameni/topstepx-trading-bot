{
 "cells": [
  {
   "cell_type": "code",
   "execution_count": null,
   "metadata": {},
   "outputs": [],
   "source": [
    "!pip install mplfinance\n",
    "import requests\n",
    "import pandas as pd\n",
    "import json\n",
    "import mplfinance as mpf\n\n",
    "# \ud83d\udd10 \u062a\u0648\u06a9\u0646 API \u062e\u0648\u062f \u0631\u0627 \u0648\u0627\u0631\u062f \u06a9\u0646\u06cc\u062f\n",
    "access_token = \"\u062a\u0648\u06a9\u0646_\u0648\u0627\u0642\u0639\u06cc_\u062e\u0648\u062f_\u0631\u0627_\u0627\u06cc\u0646\u062c\u0627_\u0642\u0631\u0627\u0631_\u062f\u0647\u06cc\u062f\"\n\n",
    "url = \"https://api.topstepx.com/api/History/retrieveBars\"\n",
    "payload = {\n",
    "    \"contractId\": \"CON.F.US.MNQ.U25\",\n",
    "    \"live\": True,\n",
    "    \"startTime\": \"2025-06-24T00:00:00Z\",\n",
    "    \"endTime\": \"2025-06-25T00:00:00Z\",\n",
    "    \"unit\": 2,\n",
    "    \"unitNumber\": 5,\n",
    "    \"limit\": 100,\n",
    "    \"includePartialBar\": False\n",
    "}\n\n",
    "headers = {\n",
    "    \"Authorization\": f\"Bearer {access_token}\",\n",
    "    \"Content-Type\": \"application/json\",\n",
    "    \"accept\": \"application/json\"\n",
    "}\n\n",
    "response = requests.post(url, json=payload, headers=headers)\n",
    "if response.status_code == 200:\n",
    "    bars = response.json()\n",
    "    print(\"\ud83d\udce6 \u067e\u0627\u0633\u062e API:\")\n",
    "    print(json.dumps(bars, indent=2))\n\n",
    "    if \"bars\" in bars and bars[\"bars\"] is not None and len(bars[\"bars\"]) > 0:\n",
    "        df = pd.DataFrame(bars[\"bars\"])\n",
    "        print(\"\u2705 \u0633\u062a\u0648\u0646\u200c\u0647\u0627\u06cc \u062f\u0631\u06cc\u0627\u0641\u062a\u06cc:\", df.columns.tolist())\n\n",
    "        df.rename(columns={\"t\": \"Date\", \"o\": \"Open\", \"h\": \"High\", \"l\": \"Low\", \"c\": \"Close\", \"v\": \"Volume\"}, inplace=True)\n",
    "        df[\"Date\"] = pd.to_datetime(df[\"Date\"])\n",
    "        df.set_index(\"Date\", inplace=True)\n\n",
    "        mpf.plot(df, type='candle', style='charles', title='MNQU25 - Candlestick Chart', ylabel='Price', volume=True)\n",
    "    else:\n",
    "        print(\"\u26a0\ufe0f \u062f\u0627\u062f\u0647\u200c\u0627\u06cc \u0628\u0631\u0627\u06cc \u0631\u0633\u0645 \u0648\u062c\u0648\u062f \u0646\u062f\u0627\u0631\u062f.\")\n",
    "else:\n",
    "    print(\"\u274c \u062e\u0637\u0627:\", response.status_code)\n",
    "    print(response.text)"
   ]
  }
 ],
 "metadata": {
  "kernelspec": {
   "display_name": "Python 3",
   "language": "python",
   "name": "python3"
  },
  "language_info": {
   "name": "python",
   "version": "3.x"
  }
 },
 "nbformat": 4,
 "nbformat_minor": 2
}